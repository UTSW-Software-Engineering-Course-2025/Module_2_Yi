{
 "cells": [
  {
   "attachments": {},
   "cell_type": "markdown",
   "id": "fcfc1c6c",
   "metadata": {},
   "source": [
    "# Variational AutoEncoder (VAE)\n",
    "Train a VAE on the MNIST handwritten digit dataset. \n",
    "\n",
    "This makes use of: the custom Keras model class defined in vaegan.vae.py, our\n",
    "class for loading the MNIST dataset defined in vaegan.data, and our custom Keras\n",
    "callback in vaegan.callbacks.\n",
    "\n",
    "A directory called 'output' will be created to save figures and the trained\n",
    "model.\n"
   ]
  },
  {
   "cell_type": "code",
   "execution_count": 1,
   "id": "476d75b3",
   "metadata": {},
   "outputs": [],
   "source": [
    "# nEpochs=20  # orig, longer, more reasonable amount of training\n",
    "nEpochs=21  # quick testing during development"
   ]
  },
  {
   "attachments": {},
   "cell_type": "markdown",
   "id": "9bdb97eb",
   "metadata": {},
   "source": [
    "## 1. Import 3rd party libraries"
   ]
  },
  {
   "cell_type": "code",
   "execution_count": 2,
   "id": "e281787f",
   "metadata": {},
   "outputs": [
    {
     "name": "stderr",
     "output_type": "stream",
     "text": [
      "2025-05-30 01:02:47.131440: E external/local_xla/xla/stream_executor/cuda/cuda_fft.cc:467] Unable to register cuFFT factory: Attempting to register factory for plugin cuFFT when one has already been registered\n",
      "WARNING: All log messages before absl::InitializeLog() is called are written to STDERR\n",
      "E0000 00:00:1748584967.155995   23076 cuda_dnn.cc:8579] Unable to register cuDNN factory: Attempting to register factory for plugin cuDNN when one has already been registered\n",
      "E0000 00:00:1748584967.163500   23076 cuda_blas.cc:1407] Unable to register cuBLAS factory: Attempting to register factory for plugin cuBLAS when one has already been registered\n",
      "W0000 00:00:1748584967.182025   23076 computation_placer.cc:177] computation placer already registered. Please check linkage and avoid linking the same target more than once.\n",
      "W0000 00:00:1748584967.182042   23076 computation_placer.cc:177] computation placer already registered. Please check linkage and avoid linking the same target more than once.\n",
      "W0000 00:00:1748584967.182045   23076 computation_placer.cc:177] computation placer already registered. Please check linkage and avoid linking the same target more than once.\n",
      "W0000 00:00:1748584967.182047   23076 computation_placer.cc:177] computation placer already registered. Please check linkage and avoid linking the same target more than once.\n"
     ]
    }
   ],
   "source": [
    "import os\n",
    "import tensorflow as tf\n",
    "tf.config.run_functions_eagerly(True)\n",
    "import matplotlib.pyplot as plt\n",
    "import numpy as np\n",
    "from importlib import reload\n"
   ]
  },
  {
   "attachments": {},
   "cell_type": "markdown",
   "id": "a5dd15d5",
   "metadata": {},
   "source": [
    "## 2. Import our own classes (that we will complete together)"
   ]
  },
  {
   "cell_type": "code",
   "execution_count": 9,
   "id": "1c5907ae",
   "metadata": {},
   "outputs": [
    {
     "name": "stdout",
     "output_type": "stream",
     "text": [
      "Current working directory: /project/nanocourse/SWE_OOP/train09/Module_2_Materials/04_ExerciseCodeAndInstructions/vaegan\n"
     ]
    }
   ],
   "source": [
    "# Import our own classes \n",
    "\n",
    "current_dir =  '/project/nanocourse/SWE_OOP/train09/Module_2_Materials/04_ExerciseCodeAndInstructions/vaegan'\n",
    "os.chdir(current_dir)\n",
    "print(\"Current working directory:\", os.getcwd())\n",
    "\n",
    "from vaegan.data import MNIST\n",
    "from vaegan.callbacks import SaveImages\n",
    "import vaegan.vae\n",
    "# save_images_callback = SaveImages()\n"
   ]
  },
  {
   "attachments": {},
   "cell_type": "markdown",
   "id": "532ae5a7",
   "metadata": {},
   "source": [
    "## 3. Show some our data"
   ]
  },
  {
   "cell_type": "code",
   "execution_count": 11,
   "id": "d269a204",
   "metadata": {},
   "outputs": [
    {
     "ename": "InternalError",
     "evalue": "Failed copying input tensor from /job:localhost/replica:0/task:0/device:CPU:0 to /job:localhost/replica:0/task:0/device:GPU:0 in order to run _EagerConst: Dst tensor is not initialized.",
     "output_type": "error",
     "traceback": [
      "\u001b[31m---------------------------------------------------------------------------\u001b[39m",
      "\u001b[31mInternalError\u001b[39m                             Traceback (most recent call last)",
      "\u001b[32m/tmp/ipykernel_23076/3114135043.py\u001b[39m in \u001b[36m?\u001b[39m\u001b[34m()\u001b[39m\n\u001b[32m      6\u001b[39m \u001b[38;5;66;03m# data = MNIST()\u001b[39;00m\n\u001b[32m      7\u001b[39m (x_train, y_train), (x_test, y_test) = tf.keras.datasets.mnist.load_data()\n\u001b[32m      8\u001b[39m x_train = x_train.astype(\u001b[33m\"float32\"\u001b[39m) / \u001b[32m255.0\u001b[39m\n\u001b[32m      9\u001b[39m x_test = x_test.astype(\u001b[33m\"float32\"\u001b[39m) / \u001b[32m255.0\u001b[39m\n\u001b[32m---> \u001b[39m\u001b[32m10\u001b[39m x_train = tf.expand_dims(x_train, -\u001b[32m1\u001b[39m)  \u001b[38;5;66;03m# shape: (60000, 28, 28, 1)\u001b[39;00m\n\u001b[32m     11\u001b[39m x_test = tf.expand_dims(x_test, -\u001b[32m1\u001b[39m)\n\u001b[32m     12\u001b[39m y_train = tf.keras.utils.to_categorical(y_train, \u001b[32m10\u001b[39m)\n\u001b[32m     13\u001b[39m y_test = tf.keras.utils.to_categorical(y_test, \u001b[32m10\u001b[39m)\n",
      "\u001b[32m/project/nanocourse/SWE_OOP/shared/CondaEnvs/lib/python3.12/site-packages/tensorflow/python/ops/weak_tensor_ops.py\u001b[39m in \u001b[36m?\u001b[39m\u001b[34m(*args, **kwargs)\u001b[39m\n\u001b[32m     86\u001b[39m   \u001b[38;5;28;01mdef\u001b[39;00m wrapper(*args, **kwargs):\n\u001b[32m     87\u001b[39m     \u001b[38;5;28;01mif\u001b[39;00m \u001b[38;5;28;01mnot\u001b[39;00m ops.is_auto_dtype_conversion_enabled():\n\u001b[32m---> \u001b[39m\u001b[32m88\u001b[39m       \u001b[38;5;28;01mreturn\u001b[39;00m op(*args, **kwargs)\n\u001b[32m     89\u001b[39m     bound_arguments = signature.bind(*args, **kwargs)\n\u001b[32m     90\u001b[39m     bound_arguments.apply_defaults()\n\u001b[32m     91\u001b[39m     bound_kwargs = bound_arguments.arguments\n",
      "\u001b[32m/project/nanocourse/SWE_OOP/shared/CondaEnvs/lib/python3.12/site-packages/tensorflow/python/util/traceback_utils.py\u001b[39m in \u001b[36m?\u001b[39m\u001b[34m(*args, **kwargs)\u001b[39m\n\u001b[32m    151\u001b[39m     \u001b[38;5;28;01mexcept\u001b[39;00m Exception \u001b[38;5;28;01mas\u001b[39;00m e:\n\u001b[32m    152\u001b[39m       filtered_tb = _process_traceback_frames(e.__traceback__)\n\u001b[32m    153\u001b[39m       \u001b[38;5;28;01mraise\u001b[39;00m e.with_traceback(filtered_tb) \u001b[38;5;28;01mfrom\u001b[39;00m \u001b[38;5;28;01mNone\u001b[39;00m\n\u001b[32m    154\u001b[39m     \u001b[38;5;28;01mfinally\u001b[39;00m:\n\u001b[32m--> \u001b[39m\u001b[32m155\u001b[39m       \u001b[38;5;28;01mdel\u001b[39;00m filtered_tb\n",
      "\u001b[32m/project/nanocourse/SWE_OOP/shared/CondaEnvs/lib/python3.12/site-packages/tensorflow/python/ops/gen_array_ops.py\u001b[39m in \u001b[36m?\u001b[39m\u001b[34m(input, axis, name)\u001b[39m\n\u001b[32m   2415\u001b[39m         _ctx, \u001b[33m\"ExpandDims\"\u001b[39m, name, input, axis)\n\u001b[32m   2416\u001b[39m       \u001b[38;5;28;01mreturn\u001b[39;00m _result\n\u001b[32m   2417\u001b[39m     \u001b[38;5;28;01mexcept\u001b[39;00m _core._NotOkStatusException \u001b[38;5;28;01mas\u001b[39;00m e:\n\u001b[32m   2418\u001b[39m       _ops.raise_from_not_ok_status(e, name)\n\u001b[32m-> \u001b[39m\u001b[32m2419\u001b[39m     \u001b[38;5;28;01mexcept\u001b[39;00m _core._FallbackException:\n\u001b[32m   2420\u001b[39m       \u001b[38;5;28;01mpass\u001b[39;00m\n\u001b[32m   2421\u001b[39m     \u001b[38;5;28;01mtry\u001b[39;00m:\n\u001b[32m   2422\u001b[39m       return expand_dims_eager_fallback(\n",
      "\u001b[31mInternalError\u001b[39m: Failed copying input tensor from /job:localhost/replica:0/task:0/device:CPU:0 to /job:localhost/replica:0/task:0/device:GPU:0 in order to run _EagerConst: Dst tensor is not initialized."
     ]
    }
   ],
   "source": [
    "# Create output directory if it doesn't exist yet.\n",
    "output_dir = './outputs/mnist_vae'\n",
    "os.makedirs(output_dir, exist_ok=True)\n",
    "    \n",
    "# Instantiate the MNIST class containing our training data.\n",
    "# data = MNIST()\n",
    "(x_train, y_train), (x_test, y_test) = tf.keras.datasets.mnist.load_data()\n",
    "x_train = x_train.astype(\"float32\") / 255.0\n",
    "x_test = x_test.astype(\"float32\") / 255.0\n",
    "x_train = tf.expand_dims(x_train, -1)  # shape: (60000, 28, 28, 1)\n",
    "x_test = tf.expand_dims(x_test, -1)\n",
    "y_train = tf.keras.utils.to_categorical(y_train, 10)\n",
    "y_test = tf.keras.utils.to_categorical(y_test, 10)\n",
    "\n",
    "# Show some example images and their labels.\n",
    "data.show_example_images(os.path.join(output_dir, 'example_images.png'))"
   ]
  },
  {
   "attachments": {},
   "cell_type": "markdown",
   "id": "66bfe090",
   "metadata": {},
   "source": [
    "## 4. Construct the model using the python class you completed"
   ]
  },
  {
   "cell_type": "code",
   "execution_count": 6,
   "id": "7a87fb67",
   "metadata": {},
   "outputs": [
    {
     "name": "stdout",
     "output_type": "stream",
     "text": [
      "Loaded version: vaegan.vae\n",
      "Loaded version: vaegan.vae\n"
     ]
    }
   ],
   "source": [
    "pyModule = reload(vaegan.vae)\n",
    "    \n",
    "# Create the model. Note that we're using mostly the default arguments, but this is\n",
    "# where you might want to play around with different loss weights.\n",
    "tf.random.set_seed(1234)\n",
    "model = pyModule.VAE()\n",
    "\n",
    "# # This step tells Keras to compute the explicit output shapes of each layer.\n",
    "# # Otherwise, the layers will have dynamic/variable output shapes which is not\n",
    "# # compatible with saving and loading.\n",
    "# model.compute_output_shape((None, 32, 32, 1))\n",
    "# model.decoder.compute_output_shape((None, 8))\n",
    "\n"
   ]
  },
  {
   "attachments": {},
   "cell_type": "markdown",
   "id": "d73d6832",
   "metadata": {},
   "source": [
    "## <span style=\"color:blue\"> Correct model dimensions </span>\n",
    "    \n",
    "\n",
    "<span style=\"color:blue\"> === OVERALL MODEL ==== </span>\n",
    "\n",
    "```\n",
    "Layer (type)                 Output Shape              Param #   \n",
    "=================================================================\n",
    "encoder (Encoder)            multiple                  240896    \n",
    "_________________________________________________________________\n",
    "decoder (Decoder)            multiple                  182145    \n",
    "_________________________________________________________________\n",
    "recon_loss (Mean)            multiple                  2         \n",
    "_________________________________________________________________\n",
    "kl_loss (Mean)               multiple                  2         \n",
    "_________________________________________________________________\n",
    "total_loss (Mean)            multiple                  2         \n",
    "=================================================================\n",
    "Total params: 423,047\n",
    "Trainable params: 422,337\n",
    "Non-trainable params: 710\n",
    "\n",
    "```\n",
    "<span style=\"color:blue\"> === ENCODER SUBMODEL ====</span>\n",
    "```\n",
    "Layer (type)                    Output Shape         Param #     Connected to                     \n",
    "==================================================================================================\n",
    "input_4 (InputLayer)            [(None, 32, 32, 1)]  0                                            \n",
    "__________________________________________________________________________________________________\n",
    "conv0 (Conv2D)                  (None, 32, 32, 16)   272         input_4[0][0]                    \n",
    "__________________________________________________________________________________________________\n",
    "bn0 (BatchNormalization)        (None, 32, 32, 16)   64          conv0[1][0]                      \n",
    "__________________________________________________________________________________________________\n",
    "relu0 (ReLU)                    (None, 32, 32, 16)   0           bn0[1][0]                        \n",
    "__________________________________________________________________________________________________\n",
    "conv1 (Conv2D)                  (None, 16, 16, 32)   8224        relu0[1][0]                      \n",
    "__________________________________________________________________________________________________\n",
    "bn1 (BatchNormalization)        (None, 16, 16, 32)   128         conv1[1][0]                      \n",
    "__________________________________________________________________________________________________\n",
    "relu1 (ReLU)                    (None, 16, 16, 32)   0           bn1[1][0]                        \n",
    "__________________________________________________________________________________________________\n",
    "conv2 (Conv2D)                  (None, 8, 8, 64)     32832       relu1[1][0]                      \n",
    "__________________________________________________________________________________________________\n",
    "bn2 (BatchNormalization)        (None, 8, 8, 64)     256         conv2[1][0]                      \n",
    "__________________________________________________________________________________________________\n",
    "relu2 (ReLU)                    (None, 8, 8, 64)     0           bn2[1][0]                        \n",
    "__________________________________________________________________________________________________\n",
    "conv3 (Conv2D)                  (None, 4, 4, 64)     65600       relu2[1][0]                      \n",
    "__________________________________________________________________________________________________\n",
    "bn3 (BatchNormalization)        (None, 4, 4, 64)     256         conv3[1][0]                      \n",
    "__________________________________________________________________________________________________\n",
    "relu3 (ReLU)                    (None, 4, 4, 64)     0           bn3[1][0]                        \n",
    "__________________________________________________________________________________________________\n",
    "flatten (Flatten)               (None, 1024)         0           relu3[1][0]                      \n",
    "__________________________________________________________________________________________________\n",
    "dense (Dense)                   (None, 128)          131200      flatten[1][0]                    \n",
    "__________________________________________________________________________________________________\n",
    "dense_mean (Dense)              (None, 8)            1032        dense[1][0]                      \n",
    "__________________________________________________________________________________________________\n",
    "dense_logvar (Dense)            (None, 8)            1032        dense[1][0]                      \n",
    "==================================================================================================\n",
    "Total params: 240,896\n",
    "Trainable params: 240,544\n",
    "Non-trainable params: 352\n",
    "\n",
    "```\n",
    "<span style=\"color:blue\"> === DECODER SUBMODEL ====</span>\n",
    "```\n",
    "Layer (type)                 Output Shape              Param #   \n",
    "=================================================================\n",
    "input_5 (InputLayer)         [(None, 8)]               0         \n",
    "_________________________________________________________________\n",
    "dense (Dense)                (None, 1024)              9216      \n",
    "_________________________________________________________________\n",
    "relu_dense (ReLU)            (None, 1024)              0         \n",
    "_________________________________________________________________\n",
    "reshape (Reshape)            (None, 4, 4, 64)          0         \n",
    "_________________________________________________________________\n",
    "tconv0 (Conv2DTranspose)     (None, 8, 8, 64)          65600     \n",
    "_________________________________________________________________\n",
    "bn0 (BatchNormalization)     (None, 8, 8, 64)          256       \n",
    "_________________________________________________________________\n",
    "relu0 (ReLU)                 (None, 8, 8, 64)          0         \n",
    "_________________________________________________________________\n",
    "tconv1 (Conv2DTranspose)     (None, 16, 16, 64)        65600     \n",
    "_________________________________________________________________\n",
    "bn1 (BatchNormalization)     (None, 16, 16, 64)        256       \n",
    "_________________________________________________________________\n",
    "relu1 (ReLU)                 (None, 16, 16, 64)        0         \n",
    "_________________________________________________________________\n",
    "tconv2 (Conv2DTranspose)     (None, 32, 32, 32)        32800     \n",
    "_________________________________________________________________\n",
    "bn2 (BatchNormalization)     (None, 32, 32, 32)        128       \n",
    "_________________________________________________________________\n",
    "relu2 (ReLU)                 (None, 32, 32, 32)        0         \n",
    "_________________________________________________________________\n",
    "tconv3 (Conv2DTranspose)     (None, 32, 32, 16)        8208      \n",
    "_________________________________________________________________\n",
    "bn3 (BatchNormalization)     (None, 32, 32, 16)        64        \n",
    "_________________________________________________________________\n",
    "relu3 (ReLU)                 (None, 32, 32, 16)        0         \n",
    "_________________________________________________________________\n",
    "conv_out (Conv2D)            (None, 32, 32, 1)         17        \n",
    "_________________________________________________________________\n",
    "sigmoid_out (Activation)     (None, 32, 32, 1)         0         \n",
    "=================================================================\n",
    "Total params: 182,145\n",
    "Trainable params: 181,793\n",
    "Non-trainable params: 352\n",
    "\n",
    "```\n",
    "## 5. Now check your model's  dimensions against this list above"
   ]
  },
  {
   "cell_type": "code",
   "execution_count": 7,
   "id": "0c2843eb",
   "metadata": {},
   "outputs": [
    {
     "name": "stdout",
     "output_type": "stream",
     "text": [
      "=== OVERALL MODEL ====\n"
     ]
    },
    {
     "ename": "ValueError",
     "evalue": "This model has not yet been built. Build the model first by calling `build()` or by calling the model on a batch of data.",
     "output_type": "error",
     "traceback": [
      "\u001b[31m---------------------------------------------------------------------------\u001b[39m",
      "\u001b[31mValueError\u001b[39m                                Traceback (most recent call last)",
      "\u001b[36mCell\u001b[39m\u001b[36m \u001b[39m\u001b[32mIn[7]\u001b[39m\u001b[32m, line 2\u001b[39m\n\u001b[32m      1\u001b[39m \u001b[38;5;28mprint\u001b[39m(\u001b[33m\"\u001b[39m\u001b[33m=== OVERALL MODEL ====\u001b[39m\u001b[33m\"\u001b[39m)\n\u001b[32m----> \u001b[39m\u001b[32m2\u001b[39m \u001b[43mmodel\u001b[49m\u001b[43m.\u001b[49m\u001b[43msummary\u001b[49m\u001b[43m(\u001b[49m\u001b[43m)\u001b[49m\n\u001b[32m      3\u001b[39m \u001b[38;5;28mprint\u001b[39m(\u001b[33m\"\u001b[39m\u001b[33m=== ENCODER SUBMODEL ====\u001b[39m\u001b[33m\"\u001b[39m)\n\u001b[32m      4\u001b[39m enc_in = tf.keras.layers.Input(model.image_shape)\n",
      "\u001b[36mFile \u001b[39m\u001b[32m/project/nanocourse/SWE_OOP/shared/CondaEnvs/lib/python3.12/site-packages/tf_keras/src/engine/training.py:3501\u001b[39m, in \u001b[36mModel.summary\u001b[39m\u001b[34m(self, line_length, positions, print_fn, expand_nested, show_trainable, layer_range)\u001b[39m\n\u001b[32m   3470\u001b[39m \u001b[38;5;250m\u001b[39m\u001b[33;03m\"\"\"Prints a string summary of the network.\u001b[39;00m\n\u001b[32m   3471\u001b[39m \n\u001b[32m   3472\u001b[39m \u001b[33;03mArgs:\u001b[39;00m\n\u001b[32m   (...)\u001b[39m\u001b[32m   3498\u001b[39m \u001b[33;03m    ValueError: if `summary()` is called before the model is built.\u001b[39;00m\n\u001b[32m   3499\u001b[39m \u001b[33;03m\"\"\"\u001b[39;00m\n\u001b[32m   3500\u001b[39m \u001b[38;5;28;01mif\u001b[39;00m \u001b[38;5;129;01mnot\u001b[39;00m \u001b[38;5;28mself\u001b[39m.built:\n\u001b[32m-> \u001b[39m\u001b[32m3501\u001b[39m     \u001b[38;5;28;01mraise\u001b[39;00m \u001b[38;5;167;01mValueError\u001b[39;00m(\n\u001b[32m   3502\u001b[39m         \u001b[33m\"\u001b[39m\u001b[33mThis model has not yet been built. \u001b[39m\u001b[33m\"\u001b[39m\n\u001b[32m   3503\u001b[39m         \u001b[33m\"\u001b[39m\u001b[33mBuild the model first by calling `build()` or by calling \u001b[39m\u001b[33m\"\u001b[39m\n\u001b[32m   3504\u001b[39m         \u001b[33m\"\u001b[39m\u001b[33mthe model on a batch of data.\u001b[39m\u001b[33m\"\u001b[39m\n\u001b[32m   3505\u001b[39m     )\n\u001b[32m   3506\u001b[39m layer_utils.print_summary(\n\u001b[32m   3507\u001b[39m     \u001b[38;5;28mself\u001b[39m,\n\u001b[32m   3508\u001b[39m     line_length=line_length,\n\u001b[32m   (...)\u001b[39m\u001b[32m   3513\u001b[39m     layer_range=layer_range,\n\u001b[32m   3514\u001b[39m )\n",
      "\u001b[31mValueError\u001b[39m: This model has not yet been built. Build the model first by calling `build()` or by calling the model on a batch of data."
     ]
    }
   ],
   "source": [
    "print(\"=== OVERALL MODEL ====\")\n",
    "model.summary()\n",
    "print(\"=== ENCODER SUBMODEL ====\")\n",
    "enc_in = tf.keras.layers.Input(model.image_shape)\n",
    "enc_out  = model.encoder.call(enc_in) \n",
    "enc = tf.keras.Model(enc_in, enc_out) \n",
    "enc.summary()\n",
    "print(\"=== DECODER SUBMODEL ====\")\n",
    "dec_in = tf.keras.layers.Input(shape=(model.n_latent_dims,)) \n",
    "dec_out  = model.decoder.call(dec_in) \n",
    "dec = tf.keras.Model(dec_in, dec_out) \n",
    "dec.summary()\n",
    "\n"
   ]
  },
  {
   "attachments": {},
   "cell_type": "markdown",
   "id": "5f91e6f8",
   "metadata": {},
   "source": [
    "## 6. Compile the model "
   ]
  },
  {
   "cell_type": "code",
   "execution_count": 8,
   "id": "61e21403",
   "metadata": {},
   "outputs": [
    {
     "name": "stdout",
     "output_type": "stream",
     "text": [
      "Loaded version: vaegan.vae\n",
      "Loaded version: vaegan.vae\n"
     ]
    },
    {
     "ename": "NameError",
     "evalue": "name 'data' is not defined",
     "output_type": "error",
     "traceback": [
      "\u001b[31m---------------------------------------------------------------------------\u001b[39m",
      "\u001b[31mNameError\u001b[39m                                 Traceback (most recent call last)",
      "\u001b[36mCell\u001b[39m\u001b[36m \u001b[39m\u001b[32mIn[8]\u001b[39m\u001b[32m, line 13\u001b[39m\n\u001b[32m      7\u001b[39m model.compile(optimizer=tf.keras.optimizers.Adam(learning_rate=\u001b[32m0.001\u001b[39m))\n\u001b[32m      9\u001b[39m \u001b[38;5;66;03m# Instantiate our custom callback to save a few example reconstructions and\u001b[39;00m\n\u001b[32m     10\u001b[39m \u001b[38;5;66;03m# generated images after each epoch.\u001b[39;00m\n\u001b[32m     12\u001b[39m save_images_callback = SaveImages(output_dir=output_dir, \n\u001b[32m---> \u001b[39m\u001b[32m13\u001b[39m                                   example_images=\u001b[43mdata\u001b[49m.images_train[:\u001b[32m10\u001b[39m],\n\u001b[32m     14\u001b[39m                                   model=model,\n\u001b[32m     15\u001b[39m                                   n_generated_images=\u001b[32m10\u001b[39m,\n\u001b[32m     16\u001b[39m                                   n_latent_dims=model.n_latent_dims)\n",
      "\u001b[31mNameError\u001b[39m: name 'data' is not defined"
     ]
    }
   ],
   "source": [
    "# Compile the model with an optimizer. The learning rate of the optimizer can be\n",
    "# specified here. Normally, this is also where you would select a loss function\n",
    "# and any metrics. However, our custom model defines the loss functions inside\n",
    "# its __init__ constructor, so we don't need to do that here. \n",
    "# tf.config.run_functions_eagerly(True)\n",
    "model = pyModule.VAE()\n",
    "model.compile(optimizer=tf.keras.optimizers.Adam(learning_rate=0.001))\n",
    "\n",
    "# Instantiate our custom callback to save a few example reconstructions and\n",
    "# generated images after each epoch.\n",
    "\n",
    "save_images_callback = SaveImages(output_dir=output_dir, \n",
    "                                  example_images=data.images_train[:10],\n",
    "                                  model=model,\n",
    "                                  n_generated_images=10,\n",
    "                                  n_latent_dims=model.n_latent_dims)"
   ]
  },
  {
   "attachments": {},
   "cell_type": "markdown",
   "id": "6de88590",
   "metadata": {},
   "source": [
    "## 7. Train (fit) the model on the data "
   ]
  },
  {
   "cell_type": "code",
   "execution_count": 11,
   "id": "64460794",
   "metadata": {},
   "outputs": [
    {
     "name": "stdout",
     "output_type": "stream",
     "text": [
      "Epoch 1/21\n"
     ]
    },
    {
     "name": "stderr",
     "output_type": "stream",
     "text": [
      "/project/nanocourse/SWE_OOP/shared/CondaEnvs/lib/python3.12/site-packages/tensorflow/python/data/ops/structured_function.py:258: UserWarning: Even though the `tf.config.experimental_run_functions_eagerly` option is set, this option does not apply to tf.data functions. To force eager execution of tf.data functions, please use `tf.data.experimental.enable_debug_mode()`.\n",
      "  warnings.warn(\n",
      "I0000 00:00:1748556569.290777   11395 cuda_dnn.cc:529] Loaded cuDNN version 90300\n"
     ]
    },
    {
     "name": "stdout",
     "output_type": "stream",
     "text": [
      "469/469 [==============================] - 74s 152ms/step - recon_loss: 48.6123 - kl_loss: 8.7966 - total_loss: 57.4088\n",
      "Epoch 2/21\n",
      "469/469 [==============================] - 70s 150ms/step - recon_loss: 23.5613 - kl_loss: 10.9925 - total_loss: 34.5538\n",
      "Epoch 3/21\n",
      "469/469 [==============================] - 71s 151ms/step - recon_loss: 21.0956 - kl_loss: 11.3826 - total_loss: 32.4783\n",
      "Epoch 4/21\n",
      "469/469 [==============================] - 72s 153ms/step - recon_loss: 19.9681 - kl_loss: 11.5970 - total_loss: 31.5651\n",
      "Epoch 5/21\n",
      "469/469 [==============================] - 71s 151ms/step - recon_loss: 19.1207 - kl_loss: 11.7251 - total_loss: 30.8457\n",
      "Epoch 6/21\n",
      "469/469 [==============================] - 70s 150ms/step - recon_loss: 18.5938 - kl_loss: 11.8233 - total_loss: 30.4171\n",
      "Epoch 7/21\n",
      "469/469 [==============================] - 70s 150ms/step - recon_loss: 18.1485 - kl_loss: 11.9195 - total_loss: 30.0680\n",
      "Epoch 8/21\n",
      "469/469 [==============================] - 71s 151ms/step - recon_loss: 17.8391 - kl_loss: 11.9734 - total_loss: 29.8125\n",
      "Epoch 9/21\n",
      "469/469 [==============================] - 70s 150ms/step - recon_loss: 17.5637 - kl_loss: 12.0197 - total_loss: 29.5834\n",
      "Epoch 10/21\n",
      "469/469 [==============================] - 70s 150ms/step - recon_loss: 17.3343 - kl_loss: 12.0347 - total_loss: 29.3690\n",
      "Epoch 11/21\n",
      "469/469 [==============================] - 70s 150ms/step - recon_loss: 17.1245 - kl_loss: 12.0875 - total_loss: 29.2119\n",
      "Epoch 12/21\n",
      "469/469 [==============================] - 71s 151ms/step - recon_loss: 16.9413 - kl_loss: 12.0899 - total_loss: 29.0311\n",
      "Epoch 13/21\n",
      "469/469 [==============================] - 70s 150ms/step - recon_loss: 16.7797 - kl_loss: 12.1421 - total_loss: 28.9218\n",
      "Epoch 14/21\n",
      "469/469 [==============================] - 71s 150ms/step - recon_loss: 16.6264 - kl_loss: 12.1773 - total_loss: 28.8038\n",
      "Epoch 15/21\n",
      "469/469 [==============================] - 70s 150ms/step - recon_loss: 16.5335 - kl_loss: 12.2011 - total_loss: 28.7346\n",
      "Epoch 16/21\n",
      "469/469 [==============================] - 70s 150ms/step - recon_loss: 16.3773 - kl_loss: 12.2205 - total_loss: 28.5978\n",
      "Epoch 17/21\n",
      "469/469 [==============================] - 70s 149ms/step - recon_loss: 16.2794 - kl_loss: 12.2170 - total_loss: 28.4964\n",
      "Epoch 18/21\n",
      "469/469 [==============================] - 71s 150ms/step - recon_loss: 16.1386 - kl_loss: 12.2838 - total_loss: 28.4224\n",
      "Epoch 19/21\n",
      "469/469 [==============================] - 70s 149ms/step - recon_loss: 16.1002 - kl_loss: 12.2862 - total_loss: 28.3864\n",
      "Epoch 20/21\n",
      "469/469 [==============================] - 70s 150ms/step - recon_loss: 15.9898 - kl_loss: 12.2974 - total_loss: 28.2872\n",
      "Epoch 21/21\n",
      "469/469 [==============================] - 70s 150ms/step - recon_loss: 15.8942 - kl_loss: 12.2996 - total_loss: 28.1938\n"
     ]
    }
   ],
   "source": [
    "# Train the model. Just like any off-the-shelf Keras model, we just call fit.\n",
    "# Under the hood, Keras will call the train_step method of our custom subclass\n",
    "# on each mini-batch and automatically loop through the training data. It will\n",
    "# take care of all the details, like converting numpy arrays to tensors, showing\n",
    "# a progress bar, and tracking the loss over the epochs.\n",
    "logs = model.fit(data.images_train,\n",
    "                 batch_size=128,\n",
    "                 epochs=nEpochs,\n",
    "                 validation_data=(data.images_val, data.labels_val),\n",
    "                 callbacks=[save_images_callback])\n"
   ]
  },
  {
   "attachments": {},
   "cell_type": "markdown",
   "id": "d419f689",
   "metadata": {},
   "source": [
    "## 8. Training saves results to disk, now also plot training curves"
   ]
  },
  {
   "cell_type": "code",
   "execution_count": 12,
   "id": "1ffe37f5",
   "metadata": {},
   "outputs": [
    {
     "name": "stderr",
     "output_type": "stream",
     "text": [
      "/project/nanocourse/SWE_OOP/shared/CondaEnvs/lib/python3.12/site-packages/tf_keras/src/saving/saving_api.py:227: UserWarning: You are saving a model that has not yet been built. It might not contain any weights yet. Consider building the model first by calling it on some data.\n",
      "  saving_lib.save_model(model, local_filepath)\n"
     ]
    },
    {
     "data": {
      "image/png": "[encoded data removed]",
      "text/plain": [
       "<Figure size 640x480 with 1 Axes>"
      ]
     },
     "metadata": {},
     "output_type": "display_data"
    }
   ],
   "source": [
    "# Plot the training curves, which are stored in logs.history as a dict. Keys of\n",
    "# this dict are the metric names, while the corresponding values are arrays.\n",
    "fig, ax = plt.subplots()\n",
    "\n",
    "for loss_name in ['recon_loss', 'kl_loss', 'total_loss']:\n",
    "    loss_values = logs.history[loss_name]\n",
    "    x = np.arange(len(loss_values))\n",
    "    ax.plot(x, loss_values, label=loss_name)\n",
    "    \n",
    "ax.legend()\n",
    "ax.set_xlabel('Epoch')\n",
    "fig.savefig(os.path.join(output_dir, 'training_curves.png'), transparent=False)\n",
    "# fig.show()\n",
    "\n",
    "# Save the model \n",
    "model.save(os.path.join(output_dir, 'vae.keras'))\n"
   ]
  },
  {
   "cell_type": "code",
   "execution_count": null,
   "id": "e318ea21",
   "metadata": {},
   "outputs": [],
   "source": [
    "model = model.load(os.path.join(output_dir, 'vae.keras'))"
   ]
  },
  {
   "cell_type": "code",
   "execution_count": null,
   "id": "db5da9a3",
   "metadata": {},
   "outputs": [],
   "source": []
  },
  {
   "cell_type": "code",
   "execution_count": null,
   "id": "5b5fd37c",
   "metadata": {},
   "outputs": [],
   "source": []
  },
  {
   "cell_type": "code",
   "execution_count": null,
   "id": "2ab9e6f2",
   "metadata": {},
   "outputs": [],
   "source": [
    "\n",
    "\n",
    "\n",
    "\n",
    "\n",
    "   \n",
    "\n",
    "\n",
    "\n",
    "\n",
    "\n",
    "\n",
    "\n",
    "\n",
    "\n",
    "\n"
   ]
  }
 ],
 "metadata": {
  "kernelspec": {
   "display_name": "montillo_conda_env",
   "language": "python",
   "name": "montillo_conda_env"
  },
  "language_info": {
   "codemirror_mode": {
    "name": "ipython",
    "version": 3
   },
   "file_extension": ".py",
   "mimetype": "text/x-python",
   "name": "python",
   "nbconvert_exporter": "python",
   "pygments_lexer": "ipython3",
   "version": "3.12.10"
  }
 },
 "nbformat": 4,
 "nbformat_minor": 5
}
