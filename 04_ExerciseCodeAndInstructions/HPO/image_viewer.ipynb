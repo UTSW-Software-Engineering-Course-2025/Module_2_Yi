{
 "cells": [
  {
   "attachments": {},
   "cell_type": "markdown",
   "metadata": {},
   "source": [
    "Simple tool to interactively view and compare images across training epochs. Set the output directory location below and run the notebook. Drag the slider to view different epochs.\n",
    "\n",
    "This assumes that the reconstruction images are named epoch[nnn]_recons.png and the synthetic images are named epoch[nnn]_fakes.png."
   ]
  },
  {
   "cell_type": "code",
   "execution_count": 1,
   "metadata": {},
   "outputs": [],
   "source": [
    "# Insert the absolute path to your output folder here: (doesn't like relative paths for this)\n",
    "# ex: path = '/archive/bioinformatics/DLLab/AustinMarckx/src/git/SWE2023/tasks/HPO/outputs/'\n",
    "path = \"./outputs/\"\n",
    "model_name = 'cvaecgan'\n",
    "output_dir = path + 'mnist_hpo_'+model_name\n",
    "#output_dir = \"/archive/bioinformatics/DLLab/AixaAndrade/src/SWE/2025/Module_2_Materials/04_ExerciseCodeAndInstructions/HPO/outputs/mnist_hpo_cvaecgan\""
   ]
  },
  {
   "cell_type": "code",
   "execution_count": 2,
   "metadata": {},
   "outputs": [],
   "source": [
    "import os\n",
    "import glob\n",
    "from IPython.display import Image, display\n",
    "from ipywidgets import interact, IntSlider"
   ]
  },
  {
   "cell_type": "code",
   "execution_count": 3,
   "metadata": {},
   "outputs": [
    {
     "data": {
      "application/vnd.jupyter.widget-view+json": {
       "model_id": "ee12151642df4c76bfdee96d358b4660",
       "version_major": 2,
       "version_minor": 0
      },
      "text/plain": [
       "interactive(children=(IntSlider(value=1, description='epoch', max=3, min=1), Output()), _dom_classes=('widget-…"
      ]
     },
     "metadata": {},
     "output_type": "display_data"
    }
   ],
   "source": [
    "import os\n",
    "import glob\n",
    "from IPython.display import Image, display\n",
    "from ipywidgets import interact, IntSlider\n",
    "\n",
    "def show_images(epoch, output_dir=output_dir, model_name=model_name):\n",
    "    model_dir = output_dir#, model_name)\n",
    "    print(model_dir)\n",
    "    \n",
    "    if model_name not in {'gan', 'cgan'}:\n",
    "        recon_path = os.path.join(model_dir, f'epoch{epoch:03d}_recons.png')\n",
    "        fake_path = os.path.join(model_dir, f'epoch{epoch:03d}_fakes.png')\n",
    "        \n",
    "        if os.path.exists(recon_path):\n",
    "            display(Image(recon_path))\n",
    "        else:\n",
    "            print(f\"Missing: {recon_path}\")\n",
    "        \n",
    "        if os.path.exists(fake_path):\n",
    "            display(Image(fake_path))\n",
    "        else:\n",
    "            print(f\"Missing: {fake_path}\")\n",
    "    else:\n",
    "        fake_path = os.path.join(model_dir, f'epoch{epoch:03d}_fakes.png')\n",
    "        if os.path.exists(fake_path):\n",
    "            display(Image(fake_path))\n",
    "        else:\n",
    "            print(f\"Missing: {fake_path}\")\n",
    "\n",
    "\n",
    "\n",
    "# Count number of epochs\n",
    "model_dir = os.path.join(output_dir)#, model_name)\n",
    "fakes_paths = sorted(glob.glob(os.path.join(model_dir, '*fakes.png')))\n",
    "n_total_epochs = len(fakes_paths)\n",
    "\n",
    "# Interactive slider only if images are available\n",
    "if n_total_epochs > 0:\n",
    "    interact(lambda epoch: show_images(epoch, output_dir, model_name),\n",
    "             epoch=IntSlider(value=1, min=1, max=n_total_epochs))\n",
    "else:\n",
    "    print(f\"No generated images found in {model_dir}\")\n"
   ]
  },
  {
   "cell_type": "code",
   "execution_count": null,
   "metadata": {},
   "outputs": [],
   "source": []
  },
  {
   "cell_type": "code",
   "execution_count": null,
   "metadata": {},
   "outputs": [],
   "source": []
  }
 ],
 "metadata": {
  "kernelspec": {
   "display_name": "Python 3",
   "language": "python",
   "name": "python3"
  },
  "language_info": {
   "codemirror_mode": {
    "name": "ipython",
    "version": 3
   },
   "file_extension": ".py",
   "mimetype": "text/x-python",
   "name": "python",
   "nbconvert_exporter": "python",
   "pygments_lexer": "ipython3",
   "version": "3.12.10"
  }
 },
 "nbformat": 4,
 "nbformat_minor": 4
}
