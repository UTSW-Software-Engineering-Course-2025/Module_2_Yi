{
 "cells": [
  {
   "cell_type": "code",
   "execution_count": 1,
   "id": "cbc94970",
   "metadata": {},
   "outputs": [],
   "source": [
    "class Person(object):\n",
    "    #constructor\n",
    "    def __init__(self, name, idnumber):\n",
    "            self.name= name\n",
    "            self.idnumber = idnumber\n",
    "            print(f\"inside the Person constructor\")\n",
    "            \n",
    "    def display(self):\n",
    "            print(f\"\\n\")\n",
    "            print(f\"name {self.name}\")\n",
    "            print(f\"idnumber {self.idnumber}\")\n",
    "            print(f\"------\\n\")\n",
    "\n",
    "                  "
   ]
  },
  {
   "cell_type": "code",
   "execution_count": 2,
   "id": "13716fb3",
   "metadata": {},
   "outputs": [
    {
     "name": "stdout",
     "output_type": "stream",
     "text": [
      "inside the Person constructor\n",
      "inside the Person constructor\n",
      "\n",
      "\n",
      "name Rahul\n",
      "idnumber 8543\n",
      "------\n",
      "\n",
      "\n",
      "\n",
      "name Bob\n",
      "idnumber 9923\n",
      "------\n",
      "\n"
     ]
    }
   ],
   "source": [
    "# create a person object\n",
    "person1=Person('Rahul', 8543)\n",
    "person2=Person('Bob', 9923)\n",
    "\n",
    "# print the person \n",
    "person1.display()\n",
    "person2.display()"
   ]
  },
  {
   "cell_type": "code",
   "execution_count": 3,
   "id": "6bc3f255",
   "metadata": {},
   "outputs": [
    {
     "name": "stdout",
     "output_type": "stream",
     "text": [
      "person1 name is Rahul\n",
      "person2 name is Bob\n"
     ]
    }
   ],
   "source": [
    "# accessing attributes of an object\n",
    "print(f\"person1 name is {person1.name}\")\n",
    "print(f\"person2 name is {person2.name}\")\n",
    "\n",
    "\n"
   ]
  },
  {
   "cell_type": "code",
   "execution_count": 4,
   "id": "9bf831ed",
   "metadata": {},
   "outputs": [
    {
     "data": {
      "text/plain": [
       "False"
      ]
     },
     "execution_count": 4,
     "metadata": {},
     "output_type": "execute_result"
    }
   ],
   "source": [
    "# testing equality of objects\n",
    "person1==person2\n"
   ]
  },
  {
   "cell_type": "code",
   "execution_count": 9,
   "id": "4df22a10",
   "metadata": {},
   "outputs": [],
   "source": [
    "person3=person1\n"
   ]
  },
  {
   "cell_type": "code",
   "execution_count": 10,
   "id": "e0cfcfaa",
   "metadata": {},
   "outputs": [
    {
     "data": {
      "text/plain": [
       "True"
      ]
     },
     "execution_count": 10,
     "metadata": {},
     "output_type": "execute_result"
    }
   ],
   "source": [
    "person1==person3"
   ]
  },
  {
   "cell_type": "code",
   "execution_count": 22,
   "id": "8f66d395",
   "metadata": {},
   "outputs": [
    {
     "ename": "AttributeError",
     "evalue": "'Person' object has no attribute 'run'",
     "output_type": "error",
     "traceback": [
      "\u001b[31m---------------------------------------------------------------------------\u001b[39m",
      "\u001b[31mAttributeError\u001b[39m                            Traceback (most recent call last)",
      "\u001b[36mCell\u001b[39m\u001b[36m \u001b[39m\u001b[32mIn[22]\u001b[39m\u001b[32m, line 1\u001b[39m\n\u001b[32m----> \u001b[39m\u001b[32m1\u001b[39m \u001b[43mperson1\u001b[49m\u001b[43m.\u001b[49m\u001b[43mrun\u001b[49m()\n",
      "\u001b[31mAttributeError\u001b[39m: 'Person' object has no attribute 'run'"
     ]
    }
   ],
   "source": [
    "person1.run()"
   ]
  },
  {
   "cell_type": "code",
   "execution_count": null,
   "id": "c71f16fc",
   "metadata": {},
   "outputs": [],
   "source": [
    "# class Person(object):\n",
    "#     #constructor\n",
    "#     def __init__(self, name, idnumber):\n",
    "#             self.name= name\n",
    "#             self.idnumber = idnumber\n",
    "#             print(f\"inside the Person constructor\")\n",
    "            \n",
    "#     def display(self):\n",
    "#             print(f\"\\n\")\n",
    "#             print(f\"name {self.name}\")\n",
    "#             print(f\"idnumber {self.idnumber}\")\n",
    "#             print(f\"------\\n\")\n"
   ]
  },
  {
   "cell_type": "code",
   "execution_count": 11,
   "id": "de3256c9",
   "metadata": {},
   "outputs": [],
   "source": [
    "# subclassing from Person class\n",
    "class Employee(Person):\n",
    "    def __init__(self, name, idnumber, salary, role):\n",
    "        # invoking the __init__ of the parent class\n",
    "        #super(Employee, self).__init__(name, idnumber)\n",
    "        Person.__init__(self, name, idnumber)\n",
    "        \n",
    "        self.salary = salary\n",
    "        self.role = role\n",
    "        print(f\"inside the Employee constructor\")\n",
    "  \n",
    "    def personDetails(self):\n",
    "        print(f\"Person {self.name} has id {self.idnumber} and salary {self.salary} for their role {self.role}\")\n",
    "    "
   ]
  },
  {
   "cell_type": "code",
   "execution_count": 12,
   "id": "6fa9c4b4",
   "metadata": {},
   "outputs": [
    {
     "name": "stdout",
     "output_type": "stream",
     "text": [
      "inside the Person constructor\n",
      "inside the Employee constructor\n",
      "<__main__.Employee object at 0x2aaab6b68fb0>\n",
      "\n",
      "\n",
      "name Joanna\n",
      "idnumber 8723\n",
      "------\n",
      "\n",
      "Person Joanna has id 8723 and salary 40000 for their role intern\n",
      "==============\n",
      "inside the Person constructor\n",
      "inside the Employee constructor\n",
      "<__main__.Employee object at 0x2aaab6b8ab40>\n",
      "\n",
      "\n",
      "name Sam\n",
      "idnumber 8888\n",
      "------\n",
      "\n",
      "Person Sam has id 8888 and salary 38000 for their role intern\n"
     ]
    }
   ],
   "source": [
    "e1=Employee(\"Joanna\", 8723, 40000, \"intern\")\n",
    "print(e1)\n",
    "e1.display()\n",
    "e1.personDetails()\n",
    "print(f\"==============\")\n",
    "# define another person object\n",
    "e2=Employee(\"Sam\", 8888, 38000, \"intern\")\n",
    "print(e2)\n",
    "e2.display()\n",
    "e2.personDetails()"
   ]
  },
  {
   "cell_type": "code",
   "execution_count": 13,
   "id": "1d62ba4a",
   "metadata": {},
   "outputs": [],
   "source": [
    "class Car():\n",
    "    def __init__(self, strColor, strMake, strModel, strLicPlate):\n",
    "        self.strColor=strColor\n",
    "        self.strMake=strMake\n",
    "        self.strModel=strModel\n",
    "        self.strLicPlate=strLicPlate\n",
    "        \n",
    "    def display(self):\n",
    "        print(f'{self.strColor} {self.strMake} {self.strModel} with license {self.strLicPlate} ')"
   ]
  },
  {
   "cell_type": "code",
   "execution_count": 14,
   "id": "57c66b76",
   "metadata": {},
   "outputs": [
    {
     "name": "stdout",
     "output_type": "stream",
     "text": [
      "<__main__.Car object at 0x2aaab6b69280>\n",
      "red Honda CRV with license FGT-1090 \n"
     ]
    }
   ],
   "source": [
    "car1=Car('red', 'Honda', 'CRV', 'FGT-1090')\n",
    "print(car1)\n",
    "car1.display()"
   ]
  },
  {
   "cell_type": "code",
   "execution_count": 15,
   "id": "2c2adfd5",
   "metadata": {},
   "outputs": [],
   "source": [
    "# subclassing from Person class\n",
    "class Employee(Person):\n",
    "    def __init__(self, name:str, idnumber:int, salary:int, role:str, car: Car=None):\n",
    "        # invoking the __init__ of the parent class\n",
    "        #super(Employee, self).__init__(name, idnumber)\n",
    "        Person.__init__(self, name, idnumber)\n",
    "        \n",
    "        self.salary = salary\n",
    "        self.role = role\n",
    "        self.companyCar=car\n",
    "        print(f\"inside the Employee constructor\")\n",
    "  \n",
    "    def personDetails(self):\n",
    "        print(f\"Person {self.name} has id {self.idnumber} and salary {self.salary} for their role {self.role}\",\\\n",
    "             end='')\n",
    "        if self.companyCar == None:\n",
    "            print(' and does not drive a company car')\n",
    "        else:\n",
    "            print(f\" and drives company car \", end='')\n",
    "            self.companyCar.display()\n",
    "    \n",
    "    def addCar(self, car: Car):\n",
    "        self.companyCar=car\n",
    "        \n",
    "    def driveCar(self):      \n",
    "        if self.companyCar == None:\n",
    "            print('Error, employee does not have a company car to drive')\n",
    "        else:\n",
    "            print(f\"Driving company car \",end='')\n",
    "            self.companyCar.display()\n",
    "            \n",
    "        "
   ]
  },
  {
   "cell_type": "code",
   "execution_count": 16,
   "id": "06ca2011",
   "metadata": {},
   "outputs": [
    {
     "name": "stdout",
     "output_type": "stream",
     "text": [
      "inside the Person constructor\n",
      "inside the Employee constructor\n",
      "Person Jane has id 9090 and salary 42000 for their role resident and does not drive a company car\n",
      "Error, employee does not have a company car to drive\n",
      "======\n",
      "Person Jane has id 9090 and salary 42000 for their role resident and drives company car red Honda CRV with license FGT-1090 \n",
      "Driving company car red Honda CRV with license FGT-1090 \n"
     ]
    }
   ],
   "source": [
    "e3=Employee('Jane', 9090, 42000, 'resident')\n",
    "e3.personDetails()\n",
    "e3.driveCar()\n",
    "print(\"======\")\n",
    "e3.addCar(car1)\n",
    "e3.personDetails()\n",
    "e3.driveCar()"
   ]
  },
  {
   "cell_type": "code",
   "execution_count": null,
   "id": "cfc45b76",
   "metadata": {},
   "outputs": [],
   "source": []
  },
  {
   "cell_type": "code",
   "execution_count": 17,
   "id": "fe20cd1d",
   "metadata": {},
   "outputs": [],
   "source": [
    "e3.addCar(car1)"
   ]
  },
  {
   "cell_type": "code",
   "execution_count": 18,
   "id": "f6561b35",
   "metadata": {},
   "outputs": [
    {
     "name": "stdout",
     "output_type": "stream",
     "text": [
      "Person Jane has id 9090 and salary 42000 for their role resident and drives company car red Honda CRV with license FGT-1090 \n"
     ]
    }
   ],
   "source": [
    "e3.personDetails()"
   ]
  },
  {
   "cell_type": "code",
   "execution_count": 19,
   "id": "a4b65668",
   "metadata": {},
   "outputs": [],
   "source": [
    "# Illustrate method overriding and polymorpshism\n",
    "class Vehicle:\n",
    "    def drive(self):\n",
    "        print(\"driving, but fuel is undefined.\")\n",
    "        \n",
    "        \n",
    "class FuelCellCar(Vehicle):\n",
    "    def drive(self):\n",
    "        print(\"driving fueled by hydrogen\")\n",
    "        \n",
    "class EVCar(Vehicle):\n",
    "    def drive(self):\n",
    "        print(\"driving fueled by electric charge\")\n",
    "        \n",
    "class CombustionCar(Vehicle):\n",
    "    def drive(self):\n",
    "        print(\"driving fueled by gasoline\")\n",
    "        \n"
   ]
  },
  {
   "cell_type": "code",
   "execution_count": 20,
   "id": "d919654c",
   "metadata": {},
   "outputs": [],
   "source": [
    "c0=FuelCellCar()\n",
    "c1=CombustionCar()\n",
    "c2=FuelCellCar()\n",
    "c3=EVCar()\n",
    "listCars=[c0, c1, c2,c3]\n",
    "\n",
    "def driveCars(myList):\n",
    "    for idx, car in enumerate(myList):\n",
    "        print(f\"Car {idx} is \", end='')\n",
    "        car.drive()\n"
   ]
  },
  {
   "cell_type": "code",
   "execution_count": 21,
   "id": "2de72526",
   "metadata": {},
   "outputs": [
    {
     "name": "stdout",
     "output_type": "stream",
     "text": [
      "Car 0 is driving fueled by hydrogen\n",
      "Car 1 is driving fueled by gasoline\n",
      "Car 2 is driving fueled by hydrogen\n",
      "Car 3 is driving fueled by electric charge\n"
     ]
    }
   ],
   "source": [
    "driveCars(listCars)\n"
   ]
  },
  {
   "cell_type": "code",
   "execution_count": null,
   "id": "678068cb",
   "metadata": {},
   "outputs": [],
   "source": []
  }
 ],
 "metadata": {
  "kernelspec": {
   "display_name": "Python 3",
   "language": "python",
   "name": "python3"
  },
  "language_info": {
   "codemirror_mode": {
    "name": "ipython",
    "version": 3
   },
   "file_extension": ".py",
   "mimetype": "text/x-python",
   "name": "python",
   "nbconvert_exporter": "python",
   "pygments_lexer": "ipython3",
   "version": "3.12.10"
  }
 },
 "nbformat": 4,
 "nbformat_minor": 5
}
