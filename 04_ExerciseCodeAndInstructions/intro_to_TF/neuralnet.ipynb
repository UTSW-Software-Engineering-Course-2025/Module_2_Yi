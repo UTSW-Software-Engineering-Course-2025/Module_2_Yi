{
 "cells": [
  {
   "cell_type": "code",
   "execution_count": 1,
   "id": "c287f09d",
   "metadata": {},
   "outputs": [
    {
     "name": "stderr",
     "output_type": "stream",
     "text": [
      "2025-05-25 14:42:07.641888: I tensorflow/core/util/port.cc:153] oneDNN custom operations are on. You may see slightly different numerical results due to floating-point round-off errors from different computation orders. To turn them off, set the environment variable `TF_ENABLE_ONEDNN_OPTS=0`.\n",
      "2025-05-25 14:42:08.622583: E external/local_xla/xla/stream_executor/cuda/cuda_fft.cc:467] Unable to register cuFFT factory: Attempting to register factory for plugin cuFFT when one has already been registered\n",
      "WARNING: All log messages before absl::InitializeLog() is called are written to STDERR\n",
      "E0000 00:00:1748202128.940962   64955 cuda_dnn.cc:8579] Unable to register cuDNN factory: Attempting to register factory for plugin cuDNN when one has already been registered\n",
      "E0000 00:00:1748202129.052004   64955 cuda_blas.cc:1407] Unable to register cuBLAS factory: Attempting to register factory for plugin cuBLAS when one has already been registered\n",
      "W0000 00:00:1748202129.574068   64955 computation_placer.cc:177] computation placer already registered. Please check linkage and avoid linking the same target more than once.\n",
      "W0000 00:00:1748202129.574134   64955 computation_placer.cc:177] computation placer already registered. Please check linkage and avoid linking the same target more than once.\n",
      "W0000 00:00:1748202129.574140   64955 computation_placer.cc:177] computation placer already registered. Please check linkage and avoid linking the same target more than once.\n",
      "W0000 00:00:1748202129.574145   64955 computation_placer.cc:177] computation placer already registered. Please check linkage and avoid linking the same target more than once.\n",
      "2025-05-25 14:42:09.686561: I tensorflow/core/platform/cpu_feature_guard.cc:210] This TensorFlow binary is optimized to use available CPU instructions in performance-critical operations.\n",
      "To enable the following instructions: AVX2 AVX512F AVX512_VNNI FMA, in other operations, rebuild TensorFlow with the appropriate compiler flags.\n"
     ]
    }
   ],
   "source": [
    "import os\n",
    "import tensorflow as tf\n",
    "from tensorflow import keras\n",
    "from tensorflow.keras import layers\n",
    "from tensorflow.keras.datasets import mnist"
   ]
  },
  {
   "cell_type": "code",
   "execution_count": 2,
   "id": "adc265b7",
   "metadata": {},
   "outputs": [],
   "source": [
    "# load and prepare data for training\n",
    "(x_train, y_train), (x_test, y_test) = mnist.load_data()\n",
    "x_train = x_train.reshape(-1, 28 * 28).astype(\"float32\") / 255.0\n",
    "x_test = x_test.reshape(-1, 28 * 28).astype(\"float32\") / 255.0"
   ]
  },
  {
   "attachments": {},
   "cell_type": "markdown",
   "id": "350fbab3",
   "metadata": {},
   "source": [
    "## Dense Feed Forward Neural Networks (DFNNs)  also known as multi-layer perceptrons(MLPs)\n",
    "* well suited for inferencing from tabular data"
   ]
  },
  {
   "attachments": {},
   "cell_type": "markdown",
   "id": "db8118db",
   "metadata": {},
   "source": [
    "### Construct DFNN model using Sequential API  \n",
    "* simple interface\n",
    "* limited functionality"
   ]
  },
  {
   "cell_type": "code",
   "execution_count": 9,
   "id": "c343812c",
   "metadata": {},
   "outputs": [],
   "source": [
    "# Sequential API (Very convenient, not very flexible)\n",
    "modelDFNN1 = keras.Sequential(\n",
    "    [\n",
    "        keras.Input(shape=(784,)),\n",
    "        layers.Dense(512, activation=\"relu\"),\n",
    "        layers.Dense(256, activation=\"relu\"),\n",
    "        layers.Dense(10),\n",
    "    ]\n",
    ")\n",
    "\n",
    "modelDFNN1 = keras.Sequential()\n",
    "modelDFNN1.add(keras.Input(shape=(784,)))\n",
    "modelDFNN1.add(layers.Dense(512, activation=\"relu\"))\n",
    "modelDFNN1.add(layers.Dense(256, activation=\"relu\", name=\"my_layer\"))\n",
    "modelDFNN1.add(layers.Dense(10))"
   ]
  },
  {
   "cell_type": "code",
   "execution_count": null,
   "id": "4d6c1f9c",
   "metadata": {},
   "outputs": [],
   "source": [
    "# ToDo #1: List what objects the modelDFNN1 is comprised of (built from)"
   ]
  },
  {
   "cell_type": "code",
   "execution_count": 11,
   "id": "f1c00633",
   "metadata": {},
   "outputs": [],
   "source": [
    "modelDFNN1.compile(\n",
    "    loss=keras.losses.SparseCategoricalCrossentropy(from_logits=False),\n",
    "    optimizer=keras.optimizers.Adam(learning_rate=0.001),\n",
    "    metrics=[\"accuracy\"],\n",
    ")"
   ]
  },
  {
   "cell_type": "code",
   "execution_count": 12,
   "id": "cb47d972",
   "metadata": {},
   "outputs": [
    {
     "name": "stdout",
     "output_type": "stream",
     "text": [
      "Epoch 1/5\n",
      "1875/1875 - 10s - 6ms/step - accuracy: 0.0710 - loss: 2.3340\n",
      "Epoch 2/5\n",
      "1875/1875 - 11s - 6ms/step - accuracy: 0.0698 - loss: 2.3026\n",
      "Epoch 3/5\n",
      "1875/1875 - 9s - 5ms/step - accuracy: 0.0698 - loss: 2.3026\n",
      "Epoch 4/5\n",
      "1875/1875 - 9s - 5ms/step - accuracy: 0.0698 - loss: 2.3026\n",
      "Epoch 5/5\n",
      "1875/1875 - 10s - 5ms/step - accuracy: 0.0698 - loss: 2.3026\n",
      "313/313 - 1s - 4ms/step - accuracy: 0.0697 - loss: 2.3026\n"
     ]
    },
    {
     "data": {
      "text/plain": [
       "[2.30259108543396, 0.06970000267028809]"
      ]
     },
     "execution_count": 12,
     "metadata": {},
     "output_type": "execute_result"
    }
   ],
   "source": [
    "modelDFNN1.fit(x_train, y_train, batch_size=32, epochs=5, verbose=2)\n",
    "modelDFNN1.evaluate(x_test, y_test, batch_size=32, verbose=2)"
   ]
  },
  {
   "cell_type": "code",
   "execution_count": null,
   "id": "325b0a75",
   "metadata": {},
   "outputs": [],
   "source": [
    "# ToDo #2: What train and test accuracy do you obtain when running for 5 epochs ?  \n",
    "\n",
    "\n"
   ]
  },
  {
   "cell_type": "code",
   "execution_count": 13,
   "id": "0f45161c",
   "metadata": {},
   "outputs": [
    {
     "name": "stdout",
     "output_type": "stream",
     "text": [
      "Epoch 1/20\n",
      "1875/1875 - 10s - 5ms/step - accuracy: 0.0698 - loss: 2.3026\n",
      "Epoch 2/20\n",
      "1875/1875 - 10s - 5ms/step - accuracy: 0.0698 - loss: 2.3026\n",
      "Epoch 3/20\n",
      "1875/1875 - 11s - 6ms/step - accuracy: 0.0698 - loss: 2.3026\n",
      "Epoch 4/20\n",
      "1875/1875 - 10s - 5ms/step - accuracy: 0.0698 - loss: 2.3026\n",
      "Epoch 5/20\n",
      "1875/1875 - 10s - 5ms/step - accuracy: 0.0698 - loss: 2.3026\n",
      "Epoch 6/20\n",
      "1875/1875 - 11s - 6ms/step - accuracy: 0.0698 - loss: 2.3026\n",
      "Epoch 7/20\n",
      "1875/1875 - 10s - 6ms/step - accuracy: 0.0698 - loss: 2.3026\n",
      "Epoch 8/20\n",
      "1875/1875 - 10s - 5ms/step - accuracy: 0.0698 - loss: 2.3026\n",
      "Epoch 9/20\n",
      "1875/1875 - 10s - 5ms/step - accuracy: 0.0698 - loss: 2.3026\n",
      "Epoch 10/20\n",
      "1875/1875 - 10s - 5ms/step - accuracy: 0.0698 - loss: 2.3026\n",
      "Epoch 11/20\n",
      "1875/1875 - 10s - 5ms/step - accuracy: 0.0698 - loss: 2.3026\n",
      "Epoch 12/20\n",
      "1875/1875 - 10s - 5ms/step - accuracy: 0.0698 - loss: 2.3026\n",
      "Epoch 13/20\n",
      "1875/1875 - 10s - 5ms/step - accuracy: 0.0698 - loss: 2.3026\n",
      "Epoch 14/20\n",
      "1875/1875 - 10s - 5ms/step - accuracy: 0.0698 - loss: 2.3026\n",
      "Epoch 15/20\n",
      "1875/1875 - 10s - 6ms/step - accuracy: 0.0698 - loss: 2.3026\n",
      "Epoch 16/20\n",
      "1875/1875 - 10s - 6ms/step - accuracy: 0.0698 - loss: 2.3026\n",
      "Epoch 17/20\n",
      "1875/1875 - 11s - 6ms/step - accuracy: 0.0698 - loss: 2.3026\n",
      "Epoch 18/20\n",
      "1875/1875 - 11s - 6ms/step - accuracy: 0.0698 - loss: 2.3026\n",
      "Epoch 19/20\n",
      "1875/1875 - 11s - 6ms/step - accuracy: 0.0698 - loss: 2.3026\n",
      "Epoch 20/20\n",
      "1875/1875 - 10s - 5ms/step - accuracy: 0.0698 - loss: 2.3026\n",
      "313/313 - 1s - 3ms/step - accuracy: 0.0697 - loss: 2.3026\n"
     ]
    },
    {
     "data": {
      "text/plain": [
       "[2.30259108543396, 0.06970000267028809]"
      ]
     },
     "execution_count": 13,
     "metadata": {},
     "output_type": "execute_result"
    }
   ],
   "source": [
    "# ToDo #3: Now write code (add code cells to this notebook) to train the model for 20 additional epochs. What train and test accuracy do you obtain? \n",
    "\n",
    "modelDFNN1.fit(x_train, y_train, batch_size=32, epochs=20, verbose=2)\n",
    "modelDFNN1.evaluate(x_test, y_test, batch_size=32, verbose=2)\n"
   ]
  },
  {
   "attachments": {},
   "cell_type": "markdown",
   "id": "28b9d4f5",
   "metadata": {},
   "source": [
    "### Construct DFNN model using Functional API  \n",
    "* slightly more complex interface\n",
    "* additional functionality"
   ]
  },
  {
   "cell_type": "code",
   "execution_count": null,
   "id": "ef7835d5",
   "metadata": {},
   "outputs": [],
   "source": [
    "# ToDo #4: Now practice using the OO functional API of keras by constructing your own functional model, modelDFNN2.\n",
    "# To simplify the task, create this model so that it uses the same architecture as the sequential model.\n",
    "# For the final Dense layer use activation=\"softmax\"\n"
   ]
  },
  {
   "cell_type": "code",
   "execution_count": 15,
   "id": "4f9ad72f",
   "metadata": {},
   "outputs": [],
   "source": [
    "# Functional API (A bit more flexible)\n",
    "inputs = keras.Input(shape=(784,))\n",
    "x = layers.Dense(512, activation=\"relu\", name=\"first_layer\")(inputs)\n",
    "x = layers.Dense(256, activation=\"relu\", name=\"second_layer\")(x)\n",
    "outputs = layers.Dense(10, activation=\"softmax\")(x)\n",
    "modelDFNN2 = keras.Model(inputs=inputs, outputs=outputs)\n",
    "\n",
    "\n",
    "\n"
   ]
  },
  {
   "cell_type": "code",
   "execution_count": null,
   "id": "0f23ea53",
   "metadata": {},
   "outputs": [],
   "source": [
    "# Now to gain experience invoking methods on objects you have created,\n",
    "# write code to compile(), fit() your new model on the training data. \n",
    "# Then write code to evaluate your new model on the test data. \n"
   ]
  },
  {
   "cell_type": "code",
   "execution_count": 17,
   "id": "7ab84e59",
   "metadata": {},
   "outputs": [],
   "source": [
    "modelDFNN2.compile(\n",
    "    loss=keras.losses.SparseCategoricalCrossentropy(from_logits=False),\n",
    "    optimizer=keras.optimizers.Adam(learning_rate=0.001),\n",
    "    metrics=[\"accuracy\"],\n",
    ")"
   ]
  },
  {
   "cell_type": "code",
   "execution_count": 18,
   "id": "07ae3065",
   "metadata": {},
   "outputs": [
    {
     "name": "stdout",
     "output_type": "stream",
     "text": [
      "Epoch 1/5\n",
      "1875/1875 - 10s - 5ms/step - accuracy: 0.9434 - loss: 0.1841\n",
      "Epoch 2/5\n",
      "1875/1875 - 9s - 5ms/step - accuracy: 0.9750 - loss: 0.0785\n",
      "Epoch 3/5\n",
      "1875/1875 - 9s - 5ms/step - accuracy: 0.9820 - loss: 0.0564\n",
      "Epoch 4/5\n",
      "1875/1875 - 10s - 5ms/step - accuracy: 0.9866 - loss: 0.0405\n",
      "Epoch 5/5\n",
      "1875/1875 - 10s - 5ms/step - accuracy: 0.9901 - loss: 0.0312\n",
      "313/313 - 1s - 3ms/step - accuracy: 0.9774 - loss: 0.0892\n"
     ]
    },
    {
     "data": {
      "text/plain": [
       "[0.08924033492803574, 0.977400004863739]"
      ]
     },
     "execution_count": 18,
     "metadata": {},
     "output_type": "execute_result"
    }
   ],
   "source": [
    "modelDFNN2.fit(x_train, y_train, batch_size=32, epochs=5, verbose=2)\n",
    "modelDFNN2.evaluate(x_test, y_test, batch_size=32, verbose=2)"
   ]
  },
  {
   "cell_type": "code",
   "execution_count": null,
   "id": "35993c43",
   "metadata": {},
   "outputs": [],
   "source": [
    "# ToDo #5. Write down what train and test accuracy do you observe? How does it compare to the sequential model?"
   ]
  },
  {
   "cell_type": "code",
   "execution_count": 19,
   "id": "7eaafd90",
   "metadata": {},
   "outputs": [
    {
     "data": {
      "text/html": [
       "<pre style=\"white-space:pre;overflow-x:auto;line-height:normal;font-family:Menlo,'DejaVu Sans Mono',consolas,'Courier New',monospace\"><span style=\"font-weight: bold\">Model: \"modelDFNN3\"</span>\n",
       "</pre>\n"
      ],
      "text/plain": [
       "\u001b[1mModel: \"modelDFNN3\"\u001b[0m\n"
      ]
     },
     "metadata": {},
     "output_type": "display_data"
    },
    {
     "data": {
      "text/html": [
       "<pre style=\"white-space:pre;overflow-x:auto;line-height:normal;font-family:Menlo,'DejaVu Sans Mono',consolas,'Courier New',monospace\">┏━━━━━━━━━━━━━━━━━━━━━━━━━━━━━━━━━┳━━━━━━━━━━━━━━━━━━━━━━━━┳━━━━━━━━━━━━━━━┓\n",
       "┃<span style=\"font-weight: bold\"> Layer (type)                    </span>┃<span style=\"font-weight: bold\"> Output Shape           </span>┃<span style=\"font-weight: bold\">       Param # </span>┃\n",
       "┡━━━━━━━━━━━━━━━━━━━━━━━━━━━━━━━━━╇━━━━━━━━━━━━━━━━━━━━━━━━╇━━━━━━━━━━━━━━━┩\n",
       "│ input_layer_15 (<span style=\"color: #0087ff; text-decoration-color: #0087ff\">InputLayer</span>)     │ (<span style=\"color: #00d7ff; text-decoration-color: #00d7ff\">None</span>, <span style=\"color: #00af00; text-decoration-color: #00af00\">784</span>)            │             <span style=\"color: #00af00; text-decoration-color: #00af00\">0</span> │\n",
       "├─────────────────────────────────┼────────────────────────┼───────────────┤\n",
       "│ dense_21 (<span style=\"color: #0087ff; text-decoration-color: #0087ff\">Dense</span>)                │ (<span style=\"color: #00d7ff; text-decoration-color: #00d7ff\">None</span>, <span style=\"color: #00af00; text-decoration-color: #00af00\">512</span>)            │       <span style=\"color: #00af00; text-decoration-color: #00af00\">401,920</span> │\n",
       "├─────────────────────────────────┼────────────────────────┼───────────────┤\n",
       "│ dropout (<span style=\"color: #0087ff; text-decoration-color: #0087ff\">Dropout</span>)               │ (<span style=\"color: #00d7ff; text-decoration-color: #00d7ff\">None</span>, <span style=\"color: #00af00; text-decoration-color: #00af00\">512</span>)            │             <span style=\"color: #00af00; text-decoration-color: #00af00\">0</span> │\n",
       "├─────────────────────────────────┼────────────────────────┼───────────────┤\n",
       "│ dense_22 (<span style=\"color: #0087ff; text-decoration-color: #0087ff\">Dense</span>)                │ (<span style=\"color: #00d7ff; text-decoration-color: #00d7ff\">None</span>, <span style=\"color: #00af00; text-decoration-color: #00af00\">512</span>)            │       <span style=\"color: #00af00; text-decoration-color: #00af00\">262,656</span> │\n",
       "├─────────────────────────────────┼────────────────────────┼───────────────┤\n",
       "│ dense_23 (<span style=\"color: #0087ff; text-decoration-color: #0087ff\">Dense</span>)                │ (<span style=\"color: #00d7ff; text-decoration-color: #00d7ff\">None</span>, <span style=\"color: #00af00; text-decoration-color: #00af00\">256</span>)            │       <span style=\"color: #00af00; text-decoration-color: #00af00\">131,328</span> │\n",
       "├─────────────────────────────────┼────────────────────────┼───────────────┤\n",
       "│ dropout_1 (<span style=\"color: #0087ff; text-decoration-color: #0087ff\">Dropout</span>)             │ (<span style=\"color: #00d7ff; text-decoration-color: #00d7ff\">None</span>, <span style=\"color: #00af00; text-decoration-color: #00af00\">256</span>)            │             <span style=\"color: #00af00; text-decoration-color: #00af00\">0</span> │\n",
       "├─────────────────────────────────┼────────────────────────┼───────────────┤\n",
       "│ dense_24 (<span style=\"color: #0087ff; text-decoration-color: #0087ff\">Dense</span>)                │ (<span style=\"color: #00d7ff; text-decoration-color: #00d7ff\">None</span>, <span style=\"color: #00af00; text-decoration-color: #00af00\">128</span>)            │        <span style=\"color: #00af00; text-decoration-color: #00af00\">32,896</span> │\n",
       "├─────────────────────────────────┼────────────────────────┼───────────────┤\n",
       "│ dense_25 (<span style=\"color: #0087ff; text-decoration-color: #0087ff\">Dense</span>)                │ (<span style=\"color: #00d7ff; text-decoration-color: #00d7ff\">None</span>, <span style=\"color: #00af00; text-decoration-color: #00af00\">10</span>)             │         <span style=\"color: #00af00; text-decoration-color: #00af00\">1,290</span> │\n",
       "└─────────────────────────────────┴────────────────────────┴───────────────┘\n",
       "</pre>\n"
      ],
      "text/plain": [
       "┏━━━━━━━━━━━━━━━━━━━━━━━━━━━━━━━━━┳━━━━━━━━━━━━━━━━━━━━━━━━┳━━━━━━━━━━━━━━━┓\n",
       "┃\u001b[1m \u001b[0m\u001b[1mLayer (type)                   \u001b[0m\u001b[1m \u001b[0m┃\u001b[1m \u001b[0m\u001b[1mOutput Shape          \u001b[0m\u001b[1m \u001b[0m┃\u001b[1m \u001b[0m\u001b[1m      Param #\u001b[0m\u001b[1m \u001b[0m┃\n",
       "┡━━━━━━━━━━━━━━━━━━━━━━━━━━━━━━━━━╇━━━━━━━━━━━━━━━━━━━━━━━━╇━━━━━━━━━━━━━━━┩\n",
       "│ input_layer_15 (\u001b[38;5;33mInputLayer\u001b[0m)     │ (\u001b[38;5;45mNone\u001b[0m, \u001b[38;5;34m784\u001b[0m)            │             \u001b[38;5;34m0\u001b[0m │\n",
       "├─────────────────────────────────┼────────────────────────┼───────────────┤\n",
       "│ dense_21 (\u001b[38;5;33mDense\u001b[0m)                │ (\u001b[38;5;45mNone\u001b[0m, \u001b[38;5;34m512\u001b[0m)            │       \u001b[38;5;34m401,920\u001b[0m │\n",
       "├─────────────────────────────────┼────────────────────────┼───────────────┤\n",
       "│ dropout (\u001b[38;5;33mDropout\u001b[0m)               │ (\u001b[38;5;45mNone\u001b[0m, \u001b[38;5;34m512\u001b[0m)            │             \u001b[38;5;34m0\u001b[0m │\n",
       "├─────────────────────────────────┼────────────────────────┼───────────────┤\n",
       "│ dense_22 (\u001b[38;5;33mDense\u001b[0m)                │ (\u001b[38;5;45mNone\u001b[0m, \u001b[38;5;34m512\u001b[0m)            │       \u001b[38;5;34m262,656\u001b[0m │\n",
       "├─────────────────────────────────┼────────────────────────┼───────────────┤\n",
       "│ dense_23 (\u001b[38;5;33mDense\u001b[0m)                │ (\u001b[38;5;45mNone\u001b[0m, \u001b[38;5;34m256\u001b[0m)            │       \u001b[38;5;34m131,328\u001b[0m │\n",
       "├─────────────────────────────────┼────────────────────────┼───────────────┤\n",
       "│ dropout_1 (\u001b[38;5;33mDropout\u001b[0m)             │ (\u001b[38;5;45mNone\u001b[0m, \u001b[38;5;34m256\u001b[0m)            │             \u001b[38;5;34m0\u001b[0m │\n",
       "├─────────────────────────────────┼────────────────────────┼───────────────┤\n",
       "│ dense_24 (\u001b[38;5;33mDense\u001b[0m)                │ (\u001b[38;5;45mNone\u001b[0m, \u001b[38;5;34m128\u001b[0m)            │        \u001b[38;5;34m32,896\u001b[0m │\n",
       "├─────────────────────────────────┼────────────────────────┼───────────────┤\n",
       "│ dense_25 (\u001b[38;5;33mDense\u001b[0m)                │ (\u001b[38;5;45mNone\u001b[0m, \u001b[38;5;34m10\u001b[0m)             │         \u001b[38;5;34m1,290\u001b[0m │\n",
       "└─────────────────────────────────┴────────────────────────┴───────────────┘\n"
      ]
     },
     "metadata": {},
     "output_type": "display_data"
    },
    {
     "data": {
      "text/html": [
       "<pre style=\"white-space:pre;overflow-x:auto;line-height:normal;font-family:Menlo,'DejaVu Sans Mono',consolas,'Courier New',monospace\"><span style=\"font-weight: bold\"> Total params: </span><span style=\"color: #00af00; text-decoration-color: #00af00\">830,090</span> (3.17 MB)\n",
       "</pre>\n"
      ],
      "text/plain": [
       "\u001b[1m Total params: \u001b[0m\u001b[38;5;34m830,090\u001b[0m (3.17 MB)\n"
      ]
     },
     "metadata": {},
     "output_type": "display_data"
    },
    {
     "data": {
      "text/html": [
       "<pre style=\"white-space:pre;overflow-x:auto;line-height:normal;font-family:Menlo,'DejaVu Sans Mono',consolas,'Courier New',monospace\"><span style=\"font-weight: bold\"> Trainable params: </span><span style=\"color: #00af00; text-decoration-color: #00af00\">830,090</span> (3.17 MB)\n",
       "</pre>\n"
      ],
      "text/plain": [
       "\u001b[1m Trainable params: \u001b[0m\u001b[38;5;34m830,090\u001b[0m (3.17 MB)\n"
      ]
     },
     "metadata": {},
     "output_type": "display_data"
    },
    {
     "data": {
      "text/html": [
       "<pre style=\"white-space:pre;overflow-x:auto;line-height:normal;font-family:Menlo,'DejaVu Sans Mono',consolas,'Courier New',monospace\"><span style=\"font-weight: bold\"> Non-trainable params: </span><span style=\"color: #00af00; text-decoration-color: #00af00\">0</span> (0.00 B)\n",
       "</pre>\n"
      ],
      "text/plain": [
       "\u001b[1m Non-trainable params: \u001b[0m\u001b[38;5;34m0\u001b[0m (0.00 B)\n"
      ]
     },
     "metadata": {},
     "output_type": "display_data"
    }
   ],
   "source": [
    "# For fun: explore the architecture space by adding or removing layers from your model, retrain from scratch. \n",
    "# Learn how that impacts model performance. State of the art accuracy is around 99.97% . \n",
    "# You do not need to achieve that (nor is that expected here) but to give you an idea.\n",
    "\n",
    "inputs = keras.Input(shape=(784,))\n",
    "\n",
    "x = layers.Dense(512, activation=\"relu\")(inputs)\n",
    "x = layers.Dropout(0.3)(x)\n",
    "x = layers.Dense(512, activation=\"relu\")(x)\n",
    "x = layers.Dense(256, activation=\"relu\")(x)\n",
    "x = layers.Dropout(0.3)(x)\n",
    "x = layers.Dense(128, activation=\"relu\")(x)\n",
    "\n",
    "outputs = layers.Dense(10, activation=\"softmax\")(x)\n",
    "\n",
    "modelDFNN3 = keras.Model(inputs=inputs, outputs=outputs, name=\"modelDFNN3\")\n",
    "modelDFNN3.summary()"
   ]
  },
  {
   "cell_type": "code",
   "execution_count": 21,
   "id": "135d158b",
   "metadata": {},
   "outputs": [],
   "source": [
    "modelDFNN3.compile(\n",
    "    loss=keras.losses.SparseCategoricalCrossentropy(from_logits=False),\n",
    "    optimizer=keras.optimizers.Adam(learning_rate=0.001),\n",
    "    metrics=[\"accuracy\"],\n",
    ")"
   ]
  },
  {
   "cell_type": "code",
   "execution_count": 23,
   "id": "e5d1798b",
   "metadata": {},
   "outputs": [
    {
     "name": "stdout",
     "output_type": "stream",
     "text": [
      "Epoch 1/25\n",
      "1875/1875 - 14s - 7ms/step - accuracy: 0.9776 - loss: 0.0763\n",
      "Epoch 2/25\n",
      "1875/1875 - 13s - 7ms/step - accuracy: 0.9802 - loss: 0.0681\n",
      "Epoch 3/25\n",
      "1875/1875 - 14s - 7ms/step - accuracy: 0.9819 - loss: 0.0628\n",
      "Epoch 4/25\n",
      "1875/1875 - 13s - 7ms/step - accuracy: 0.9837 - loss: 0.0578\n",
      "Epoch 5/25\n",
      "1875/1875 - 13s - 7ms/step - accuracy: 0.9840 - loss: 0.0554\n",
      "Epoch 6/25\n",
      "1875/1875 - 14s - 7ms/step - accuracy: 0.9847 - loss: 0.0538\n",
      "Epoch 7/25\n",
      "1875/1875 - 13s - 7ms/step - accuracy: 0.9861 - loss: 0.0486\n",
      "Epoch 8/25\n",
      "1875/1875 - 13s - 7ms/step - accuracy: 0.9868 - loss: 0.0500\n",
      "Epoch 9/25\n",
      "1875/1875 - 14s - 8ms/step - accuracy: 0.9873 - loss: 0.0458\n",
      "Epoch 10/25\n",
      "1875/1875 - 13s - 7ms/step - accuracy: 0.9874 - loss: 0.0456\n",
      "Epoch 11/25\n",
      "1875/1875 - 13s - 7ms/step - accuracy: 0.9890 - loss: 0.0432\n",
      "Epoch 12/25\n",
      "1875/1875 - 13s - 7ms/step - accuracy: 0.9890 - loss: 0.0422\n",
      "Epoch 13/25\n",
      "1875/1875 - 14s - 7ms/step - accuracy: 0.9891 - loss: 0.0408\n",
      "Epoch 14/25\n",
      "1875/1875 - 14s - 7ms/step - accuracy: 0.9889 - loss: 0.0417\n",
      "Epoch 15/25\n",
      "1875/1875 - 14s - 8ms/step - accuracy: 0.9901 - loss: 0.0356\n",
      "Epoch 16/25\n",
      "1875/1875 - 14s - 8ms/step - accuracy: 0.9902 - loss: 0.0353\n",
      "Epoch 17/25\n",
      "1875/1875 - 14s - 7ms/step - accuracy: 0.9905 - loss: 0.0365\n",
      "Epoch 18/25\n",
      "1875/1875 - 14s - 7ms/step - accuracy: 0.9905 - loss: 0.0363\n",
      "Epoch 19/25\n",
      "1875/1875 - 13s - 7ms/step - accuracy: 0.9908 - loss: 0.0362\n",
      "Epoch 20/25\n",
      "1875/1875 - 14s - 7ms/step - accuracy: 0.9911 - loss: 0.0338\n",
      "Epoch 21/25\n",
      "1875/1875 - 13s - 7ms/step - accuracy: 0.9918 - loss: 0.0348\n",
      "Epoch 22/25\n",
      "1875/1875 - 14s - 7ms/step - accuracy: 0.9907 - loss: 0.0377\n",
      "Epoch 23/25\n",
      "1875/1875 - 14s - 8ms/step - accuracy: 0.9915 - loss: 0.0344\n",
      "Epoch 24/25\n",
      "1875/1875 - 14s - 8ms/step - accuracy: 0.9925 - loss: 0.0308\n",
      "Epoch 25/25\n",
      "1875/1875 - 13s - 7ms/step - accuracy: 0.9914 - loss: 0.0354\n",
      "313/313 - 1s - 4ms/step - accuracy: 0.9817 - loss: 0.1091\n"
     ]
    },
    {
     "data": {
      "text/plain": [
       "[0.10907568037509918, 0.9817000031471252]"
      ]
     },
     "execution_count": 23,
     "metadata": {},
     "output_type": "execute_result"
    }
   ],
   "source": [
    "modelDFNN3.fit(x_train, y_train, batch_size=32, epochs=25, verbose=2)\n",
    "modelDFNN3.evaluate(x_test, y_test, batch_size=32, verbose=2)"
   ]
  }
 ],
 "metadata": {
  "kernelspec": {
   "display_name": "Python 3",
   "language": "python",
   "name": "python3"
  },
  "language_info": {
   "codemirror_mode": {
    "name": "ipython",
    "version": 3
   },
   "file_extension": ".py",
   "mimetype": "text/x-python",
   "name": "python",
   "nbconvert_exporter": "python",
   "pygments_lexer": "ipython3",
   "version": "3.12.10"
  }
 },
 "nbformat": 4,
 "nbformat_minor": 5
}
